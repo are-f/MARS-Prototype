{
 "cells": [
  {
   "cell_type": "code",
   "execution_count": 8,
   "id": "6bb84279",
   "metadata": {},
   "outputs": [
    {
     "name": "stdout",
     "output_type": "stream",
     "text": [
      "{1: [HumanMessage(content='Translate from English to French: I love programming.', additional_kwargs={}, response_metadata={}), AIMessage(content=\"J'adore la programmation.\", additional_kwargs={}, response_metadata={}), HumanMessage(content='What did you just say?', additional_kwargs={}, response_metadata={})], 2: [HumanMessage(content='Tell me about the Major Cities', additional_kwargs={}, response_metadata={}), AIMessage(content=\"It's NewYork, Paris, Bejing, Hongkong\", additional_kwargs={}, response_metadata={}), HumanMessage(content='What did you just say?', additional_kwargs={}, response_metadata={})]}\n"
     ]
    }
   ],
   "source": [
    "from langchain_core.messages import AIMessage, HumanMessage\n",
    "\n",
    "\n",
    "chats = {\n",
    "    1: [\n",
    "        HumanMessage(content=\"Translate from English to French: I love programming.\"),\n",
    "        AIMessage(content=\"J'adore la programmation.\"),\n",
    "        HumanMessage(content=\"What did you just say?\"),\n",
    "    ],\n",
    "    2: [\n",
    "        HumanMessage(content=\"Tell me about the Major Cities\"),\n",
    "        AIMessage(content=\"It's NewYork, Paris, Bejing, Hongkong\"),\n",
    "        HumanMessage(content=\"What did you just say?\"),\n",
    "    ],\n",
    "}\n",
    "\n",
    "print(chats)\n"
   ]
  },
  {
   "cell_type": "code",
   "execution_count": 3,
   "id": "8379f62c",
   "metadata": {},
   "outputs": [
    {
     "name": "stderr",
     "output_type": "stream",
     "text": [
      "c:\\Python311\\Lib\\site-packages\\tqdm\\auto.py:21: TqdmWarning: IProgress not found. Please update jupyter and ipywidgets. See https://ipywidgets.readthedocs.io/en/stable/user_install.html\n",
      "  from .autonotebook import tqdm as notebook_tqdm\n",
      "C:\\Users\\HP\\AppData\\Local\\Temp\\ipykernel_14048\\2966365582.py:14: LangChainDeprecationWarning: Please see the migration guide at: https://python.langchain.com/docs/versions/migrating_memory/\n",
      "  memory = ConversationBufferMemory(memory_key=\"chat_history\", return_messages=True)\n",
      "C:\\Users\\HP\\AppData\\Roaming\\Python\\Python311\\site-packages\\langsmith\\client.py:272: LangSmithMissingAPIKeyWarning: API key must be provided when using hosted LangSmith API\n",
      "  warnings.warn(\n"
     ]
    },
    {
     "name": "stdout",
     "output_type": "stream",
     "text": [
      "\n",
      "\n",
      "\u001b[1m> Entering new AgentExecutor chain...\u001b[0m\n",
      "\u001b[32;1m\u001b[1;3mThought: Do I need to use a tool? No\n",
      "Final Answer: Hi there! How can I help you today?\u001b[0m\n",
      "\n",
      "\u001b[1m> Finished chain.\u001b[0m\n",
      "Hi there! How can I help you today?\n",
      "chat_memory=InMemoryChatMessageHistory(messages=[HumanMessage(content='hi', additional_kwargs={}, response_metadata={}), AIMessage(content='Hi there! How can I help you today?', additional_kwargs={}, response_metadata={})]) return_messages=True memory_key='chat_history'\n"
     ]
    }
   ],
   "source": [
    "# multi_agent/QnA_Agent/agent.py\n",
    "import os\n",
    "from langchain_google_genai import ChatGoogleGenerativeAI\n",
    "from langchain_community.tools import DuckDuckGoSearchRun\n",
    "from langchain.agents import create_react_agent, AgentExecutor, Tool\n",
    "from langchain.memory import ConversationBufferMemory\n",
    "from dotenv import load_dotenv\n",
    "from langchain import hub\n",
    "\n",
    "load_dotenv()\n",
    "\n",
    "GOOGLE_API_KEY = os.getenv(\"GOOGLE_API_KEY\")\n",
    "\n",
    "memory = ConversationBufferMemory(memory_key=\"chat_history\", return_messages=True)\n",
    "\n",
    "\n",
    "def qna_agent_response(user_input: str) -> str:\n",
    "    llm = ChatGoogleGenerativeAI(model=\"gemini-1.5-flash-latest\")\n",
    "\n",
    "    search_tool = DuckDuckGoSearchRun()\n",
    "    tool = Tool(\n",
    "        name=\"Search\",\n",
    "        func=search_tool.run,\n",
    "        description=\"Use this tool to look up information on the web ONLY when needed.\",\n",
    "    )\n",
    "\n",
    "    prompt = hub.pull(\"hwchase17/react-chat\")\n",
    "\n",
    "    agent = create_react_agent(llm=llm, tools=[tool], prompt=prompt)\n",
    "\n",
    "    agent_executor = AgentExecutor(\n",
    "        agent=agent,\n",
    "        tools=[tool],\n",
    "        memory=memory,\n",
    "        verbose=True,\n",
    "        handle_parsing_errors=True,\n",
    "    )\n",
    "\n",
    "    result = agent_executor.invoke({\"input\": user_input})\n",
    "    return result[\"output\"]\n",
    "\n",
    "\n",
    "query = input(\"Enter query : \")\n",
    "\n",
    "result = qna_agent_response(query)\n",
    "\n",
    "print(result)\n",
    "\n",
    "print(memory)\n"
   ]
  },
  {
   "cell_type": "code",
   "execution_count": 6,
   "id": "5c6f9bf8",
   "metadata": {},
   "outputs": [
    {
     "data": {
      "text/plain": [
       "[HumanMessage(content='hi', additional_kwargs={}, response_metadata={}),\n",
       " AIMessage(content='Hi there! How can I help you today?', additional_kwargs={}, response_metadata={})]"
      ]
     },
     "execution_count": 6,
     "metadata": {},
     "output_type": "execute_result"
    }
   ],
   "source": [
    "memory.chat_memory.messages"
   ]
  },
  {
   "cell_type": "code",
   "execution_count": 21,
   "id": "3198c7c3",
   "metadata": {},
   "outputs": [
    {
     "data": {
      "text/plain": [
       "{1: [HumanMessage(content='Translate from English to French: I love programming.', additional_kwargs={}, response_metadata={}),\n",
       "  AIMessage(content=\"J'adore la programmation.\", additional_kwargs={}, response_metadata={}),\n",
       "  HumanMessage(content='What did you just say?', additional_kwargs={}, response_metadata={})],\n",
       " 2: [HumanMessage(content='Tell me about the Major Cities', additional_kwargs={}, response_metadata={}),\n",
       "  AIMessage(content=\"It's NewYork, Paris, Bejing, Hongkong\", additional_kwargs={}, response_metadata={}),\n",
       "  HumanMessage(content='What did you just say?', additional_kwargs={}, response_metadata={})],\n",
       " 3: [HumanMessage(content='hi', additional_kwargs={}, response_metadata={}),\n",
       "  AIMessage(content='Hi there! How can I help you today?', additional_kwargs={}, response_metadata={})]}"
      ]
     },
     "execution_count": 21,
     "metadata": {},
     "output_type": "execute_result"
    }
   ],
   "source": [
    "chats[list(chats.keys())[-1] + 1] = memory.chat_memory.messages\n",
    "\n",
    "chats"
   ]
  }
 ],
 "metadata": {
  "kernelspec": {
   "display_name": "Python 3",
   "language": "python",
   "name": "python3"
  },
  "language_info": {
   "codemirror_mode": {
    "name": "ipython",
    "version": 3
   },
   "file_extension": ".py",
   "mimetype": "text/x-python",
   "name": "python",
   "nbconvert_exporter": "python",
   "pygments_lexer": "ipython3",
   "version": "3.11.4"
  }
 },
 "nbformat": 4,
 "nbformat_minor": 5
}
